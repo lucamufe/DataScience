{
 "metadata": {
  "language_info": {
   "codemirror_mode": {
    "name": "ipython",
    "version": 3
   },
   "file_extension": ".py",
   "mimetype": "text/x-python",
   "name": "python",
   "nbconvert_exporter": "python",
   "pygments_lexer": "ipython3",
   "version": "3.7.8-final"
  },
  "orig_nbformat": 2,
  "kernelspec": {
   "name": "python37864bitavdatasciencevenv87bb693bf5594e1aaa6fcaaa523f9b53",
   "display_name": "Python 3.7.8 64-bit ('av_datascience': venv)"
  }
 },
 "nbformat": 4,
 "nbformat_minor": 2,
 "cells": [
  {
   "cell_type": "code",
   "execution_count": 1,
   "metadata": {},
   "outputs": [],
   "source": [
    "success_estimate =  {\n",
    "    'Colombia': [0.6, 0.5, 0.3],\n",
    "    'Perú': [0.4, 0.3, 0.7]\n",
    "}"
   ]
  },
  {
   "cell_type": "code",
   "execution_count": 2,
   "metadata": {},
   "outputs": [
    {
     "output_type": "execute_result",
     "data": {
      "text/plain": "['Colombia', 'Perú']"
     },
     "metadata": {},
     "execution_count": 2
    }
   ],
   "source": [
    "list(success_estimate.keys())"
   ]
  },
  {
   "cell_type": "code",
   "execution_count": 3,
   "metadata": {},
   "outputs": [
    {
     "output_type": "execute_result",
     "data": {
      "text/plain": "[[0.6, 0.5, 0.3], [0.4, 0.3, 0.7]]"
     },
     "metadata": {},
     "execution_count": 3
    }
   ],
   "source": [
    "list(success_estimate.values())"
   ]
  },
  {
   "cell_type": "code",
   "execution_count": 4,
   "metadata": {
    "tags": []
   },
   "outputs": [
    {
     "output_type": "stream",
     "name": "stdout",
     "text": "True\n"
    }
   ],
   "source": [
    "print('Perú' in success_estimate)"
   ]
  },
  {
   "cell_type": "code",
   "execution_count": 5,
   "metadata": {
    "tags": []
   },
   "outputs": [
    {
     "output_type": "stream",
     "name": "stdout",
     "text": "False\n"
    }
   ],
   "source": [
    "print('Venezuela' in success_estimate)"
   ]
  },
  {
   "cell_type": "code",
   "execution_count": 6,
   "metadata": {},
   "outputs": [
    {
     "output_type": "execute_result",
     "data": {
      "text/plain": "[0.6, 0.5, 0.3]"
     },
     "metadata": {},
     "execution_count": 6
    }
   ],
   "source": [
    "success_estimate['Colombia']"
   ]
  },
  {
   "cell_type": "code",
   "execution_count": 7,
   "metadata": {
    "tags": []
   },
   "outputs": [
    {
     "output_type": "stream",
     "name": "stdout",
     "text": "[0.6, 0.5, 0.3]\n"
    }
   ],
   "source": [
    "dat_col = success_estimate['Colombia']\n",
    "print(dat_col)"
   ]
  },
  {
   "cell_type": "code",
   "execution_count": 8,
   "metadata": {
    "tags": []
   },
   "outputs": [
    {
     "output_type": "stream",
     "name": "stdout",
     "text": "0.6\n0.5\n"
    }
   ],
   "source": [
    "print(dat_col[0])\n",
    "print(dat_col[1])"
   ]
  },
  {
   "cell_type": "code",
   "execution_count": 9,
   "metadata": {
    "tags": []
   },
   "outputs": [
    {
     "output_type": "stream",
     "name": "stdout",
     "text": "[0.5, 0.3]\n[0.5, 0.3]\n"
    }
   ],
   "source": [
    "print(dat_col[-2:])\n",
    "print(dat_col[1:])"
   ]
  },
  {
   "cell_type": "code",
   "execution_count": 10,
   "metadata": {
    "tags": []
   },
   "outputs": [
    {
     "output_type": "stream",
     "name": "stdout",
     "text": "0.3\n"
    }
   ],
   "source": [
    "print(success_estimate['Perú'][1])"
   ]
  },
  {
   "cell_type": "code",
   "execution_count": 11,
   "metadata": {},
   "outputs": [
    {
     "output_type": "execute_result",
     "data": {
      "text/plain": "2"
     },
     "metadata": {},
     "execution_count": 11
    }
   ],
   "source": [
    "len(success_estimate)"
   ]
  },
  {
   "cell_type": "code",
   "execution_count": 12,
   "metadata": {
    "tags": []
   },
   "outputs": [
    {
     "output_type": "stream",
     "name": "stdout",
     "text": "[0.6, 0.5, 0.3]\n"
    }
   ],
   "source": [
    "country_name = 'Colombia'\n",
    "list_colombia = success_estimate[country_name]\n",
    "print(list_colombia)"
   ]
  },
  {
   "cell_type": "code",
   "execution_count": 13,
   "metadata": {
    "tags": []
   },
   "outputs": [
    {
     "output_type": "stream",
     "name": "stdout",
     "text": "0.47\n0.3\n0.6\n"
    }
   ],
   "source": [
    "avg_colombia = sum(list_colombia)/len(list_colombia)\n",
    "print(round(avg_colombia,2))\n",
    "print(round(min(list_colombia),2))\n",
    "print(round(max(list_colombia),2))"
   ]
  },
  {
   "cell_type": "code",
   "execution_count": 14,
   "metadata": {},
   "outputs": [],
   "source": [
    "# Data on probability of expansion success by country estimates\n",
    "success_estimates = {\n",
    "    'Australia': [0.6, 0.33, 0.11, 0.14],\n",
    "    'France': [0.66, 0.78, 0.98, 0.2],\n",
    "    'Italy': [0.6],\n",
    "    'Brazil': [0.22, 0.22, 0.43],\n",
    "    'USA': [0.2, 0.5, 0.3],\n",
    "    'England': [0.45],\n",
    "    'Canada': [0.25, 0.3],\n",
    "    'Argentina': [0.22],\n",
    "    'Greece': [0.45, 0.66, 0.75, 0.99, 0.15, 0.66],\n",
    "    'Morocco': [0.29],\n",
    "    'Tunisia': [0.68, 0.56],\n",
    "    'Egypt': [0.99],\n",
    "    'Jamaica': [0.61, 0.65, 0.71],\n",
    "    'Switzerland': [0.73, 0.86, 0.84, 0.51, 0.99],\n",
    "    'Germany': [0.45, 0.49, 0.36]\n",
    "}"
   ]
  },
  {
   "cell_type": "code",
   "execution_count": 15,
   "metadata": {
    "tags": []
   },
   "outputs": [
    {
     "output_type": "stream",
     "name": "stdout",
     "text": "['Australia', 'France', 'Italy', 'Brazil', 'USA', 'England', 'Canada', 'Argentina', 'Greece', 'Morocco', 'Tunisia', 'Egypt', 'Jamaica', 'Switzerland', 'Germany']\n"
    }
   ],
   "source": [
    "countries = list(success_estimates.keys())\n",
    "print(countries)"
   ]
  },
  {
   "cell_type": "code",
   "execution_count": 16,
   "metadata": {
    "tags": []
   },
   "outputs": [
    {
     "output_type": "stream",
     "name": "stdout",
     "text": "Country: Australia\nAverage:  0.3\nCountry: France\nAverage:  0.66\nCountry: Italy\nAverage:  0.6\nCountry: Brazil\nAverage:  0.29\nCountry: USA\nAverage:  0.33\nCountry: England\nAverage:  0.45\nCountry: Canada\nAverage:  0.28\nCountry: Argentina\nAverage:  0.22\nCountry: Greece\nAverage:  0.61\nCountry: Morocco\nAverage:  0.29\nCountry: Tunisia\nAverage:  0.62\nCountry: Egypt\nAverage:  0.99\nCountry: Jamaica\nAverage:  0.66\nCountry: Switzerland\nAverage:  0.79\nCountry: Germany\nAverage:  0.43\n"
    }
   ],
   "source": [
    "for country in countries:\n",
    "    print('Country: ' + country)\n",
    "    print('Average: ', round(sum(success_estimates[country])/len(success_estimates[country]),2))"
   ]
  },
  {
   "cell_type": "code",
   "execution_count": 17,
   "metadata": {
    "tags": []
   },
   "outputs": [
    {
     "output_type": "stream",
     "name": "stdout",
     "text": "Country: Australia\nMin:  0.11\nMax:  0.6\nCountry: France\nMin:  0.2\nMax:  0.98\nCountry: Italy\nMin:  0.6\nMax:  0.6\nCountry: Brazil\nMin:  0.22\nMax:  0.43\nCountry: USA\nMin:  0.2\nMax:  0.5\nCountry: England\nMin:  0.45\nMax:  0.45\nCountry: Canada\nMin:  0.25\nMax:  0.3\nCountry: Argentina\nMin:  0.22\nMax:  0.22\nCountry: Greece\nMin:  0.15\nMax:  0.99\nCountry: Morocco\nMin:  0.29\nMax:  0.29\nCountry: Tunisia\nMin:  0.56\nMax:  0.68\nCountry: Egypt\nMin:  0.99\nMax:  0.99\nCountry: Jamaica\nMin:  0.61\nMax:  0.71\nCountry: Switzerland\nMin:  0.51\nMax:  0.99\nCountry: Germany\nMin:  0.36\nMax:  0.49\n"
    }
   ],
   "source": [
    "for country in countries:\n",
    "    print('Country: ' + country)\n",
    "    print('Min: ', min(success_estimates[country]))\n",
    "    print('Max: ', max(success_estimates[country]))"
   ]
  },
  {
   "cell_type": "code",
   "execution_count": 18,
   "metadata": {
    "tags": []
   },
   "outputs": [
    {
     "output_type": "stream",
     "name": "stdout",
     "text": "Country with bigger range: Greece\nBigger range:  0.84\n"
    }
   ],
   "source": [
    "bigger_range = 0\n",
    "bigger_country = ''\n",
    "for country in countries:\n",
    "    if (max(success_estimates[country]) - min(success_estimates[country])) > bigger_range:\n",
    "        bigger_range = max(success_estimates[country]) - min(success_estimates[country])\n",
    "        bigger_country = country\n",
    "print('Country with bigger range: ' + bigger_country)\n",
    "print('Bigger range: ', bigger_range)"
   ]
  },
  {
   "cell_type": "code",
   "execution_count": 19,
   "metadata": {},
   "outputs": [
    {
     "output_type": "execute_result",
     "data": {
      "text/plain": "['Australia',\n 'France',\n 'Italy',\n 'Brazil',\n 'USA',\n 'England',\n 'Canada',\n 'Argentina',\n 'Greece',\n 'Morocco',\n 'Tunisia',\n 'Egypt',\n 'Jamaica',\n 'Switzerland',\n 'Germany']"
     },
     "metadata": {},
     "execution_count": 19
    }
   ],
   "source": [
    "country_list = [i for i in success_estimates]\n",
    "country_list"
   ]
  },
  {
   "cell_type": "code",
   "execution_count": 20,
   "metadata": {},
   "outputs": [
    {
     "output_type": "execute_result",
     "data": {
      "text/plain": "[[0.6, 0.33, 0.11, 0.14],\n [0.66, 0.78, 0.98, 0.2],\n [0.6],\n [0.22, 0.22, 0.43],\n [0.2, 0.5, 0.3],\n [0.45],\n [0.25, 0.3],\n [0.22],\n [0.45, 0.66, 0.75, 0.99, 0.15, 0.66],\n [0.29],\n [0.68, 0.56],\n [0.99],\n [0.61, 0.65, 0.71],\n [0.73, 0.86, 0.84, 0.51, 0.99],\n [0.45, 0.49, 0.36]]"
     },
     "metadata": {},
     "execution_count": 20
    }
   ],
   "source": [
    "list_values = [success_estimates[country] for country in success_estimates]\n",
    "list_values"
   ]
  },
  {
   "cell_type": "code",
   "execution_count": 21,
   "metadata": {},
   "outputs": [
    {
     "output_type": "execute_result",
     "data": {
      "text/plain": "[['Australia', 4],\n ['France', 4],\n ['Italy', 1],\n ['Brazil', 3],\n ['USA', 3],\n ['England', 1],\n ['Canada', 2],\n ['Argentina', 1],\n ['Greece', 6],\n ['Morocco', 1],\n ['Tunisia', 2],\n ['Egypt', 1],\n ['Jamaica', 3],\n ['Switzerland', 5],\n ['Germany', 3]]"
     },
     "metadata": {},
     "execution_count": 21
    }
   ],
   "source": [
    "[[country, len(success_estimates[country])] for country in success_estimates]"
   ]
  },
  {
   "cell_type": "code",
   "execution_count": 22,
   "metadata": {},
   "outputs": [
    {
     "output_type": "execute_result",
     "data": {
      "text/plain": "[['Australia', 0.5005999999999999],\n ['France', 2.0444],\n ['Italy', 0.36],\n ['Brazil', 0.28169999999999995],\n ['USA', 0.38],\n ['England', 0.2025],\n ['Canada', 0.1525],\n ['Argentina', 0.0484],\n ['Greece', 2.6388],\n ['Morocco', 0.0841],\n ['Tunisia', 0.7760000000000001],\n ['Egypt', 0.9801],\n ['Jamaica', 1.2987],\n ['Switzerland', 3.2183],\n ['Germany', 0.5722]]"
     },
     "metadata": {},
     "execution_count": 22
    }
   ],
   "source": [
    "[[country, sum([i*i for i in success_estimates[country]])] for country in success_estimates]"
   ]
  },
  {
   "cell_type": "code",
   "execution_count": 23,
   "metadata": {},
   "outputs": [
    {
     "output_type": "execute_result",
     "data": {
      "text/plain": "[['Australia', 0.29500000000000004],\n ['France', 0.655],\n ['Italy', 0.6],\n ['Brazil', 0.29],\n ['USA', 0.3333333333333333],\n ['England', 0.45],\n ['Canada', 0.275],\n ['Argentina', 0.22],\n ['Greece', 0.61],\n ['Morocco', 0.29],\n ['Tunisia', 0.6200000000000001],\n ['Egypt', 0.99],\n ['Jamaica', 0.6566666666666666],\n ['Switzerland', 0.7859999999999999],\n ['Germany', 0.4333333333333333]]"
     },
     "metadata": {},
     "execution_count": 23
    }
   ],
   "source": [
    "[[country, sum(success_estimates[country])/len(success_estimates[country])] for country in success_estimates]"
   ]
  },
  {
   "cell_type": "code",
   "execution_count": 24,
   "metadata": {},
   "outputs": [
    {
     "output_type": "execute_result",
     "data": {
      "text/plain": "[['Australia', [0.3, 0.03, -0.19, -0.16]],\n ['France', [0.01, 0.12, 0.32, -0.46]],\n ['Italy', [0.0]],\n ['Brazil', [-0.07, -0.07, 0.14]],\n ['USA', [-0.13, 0.17, -0.03]],\n ['England', [0.0]],\n ['Canada', [-0.03, 0.02]],\n ['Argentina', [0.0]],\n ['Greece', [-0.16, 0.05, 0.14, 0.38, -0.46, 0.05]],\n ['Morocco', [0.0]],\n ['Tunisia', [0.06, -0.06]],\n ['Egypt', [0.0]],\n ['Jamaica', [-0.05, -0.01, 0.05]],\n ['Switzerland', [-0.06, 0.07, 0.05, -0.28, 0.2]],\n ['Germany', [0.02, 0.06, -0.07]]]"
     },
     "metadata": {},
     "execution_count": 24
    }
   ],
   "source": [
    "removed_mean_list = [[country, [round(i-(sum(success_estimates[country])/len(success_estimates[country])),2) for i in success_estimates[country]]] for country in success_estimates]\n",
    "removed_mean_list"
   ]
  },
  {
   "cell_type": "code",
   "execution_count": 25,
   "metadata": {
    "tags": []
   },
   "outputs": [
    {
     "output_type": "stream",
     "name": "stdout",
     "text": "Country: Australia, Avg Success Estimate:  0.30\nCountry: France, Avg Success Estimate:  0.66\nCountry: Brazil, Avg Success Estimate:  0.29\nCountry: USA, Avg Success Estimate:  0.33\nCountry: Canada, Avg Success Estimate:  0.28\nCountry: Greece, Avg Success Estimate:  0.61\nCountry: Tunisia, Avg Success Estimate:  0.62\nCountry: Jamaica, Avg Success Estimate:  0.66\nCountry: Switzerland, Avg Success Estimate:  0.79\nCountry: Germany, Avg Success Estimate:  0.43\n"
    }
   ],
   "source": [
    "all_countries = list(success_estimates.keys())\n",
    "country_means = {}\n",
    "for country in all_countries:\n",
    "    list_values = success_estimates[country]\n",
    "    if len(success_estimates[country])>1:\n",
    "        country_means[country] = sum(list_values)/len(list_values)\n",
    "for country in country_means:\n",
    "    print(\"Country: {0:s}, Avg Success Estimate: {1: .2f}\".format(country,country_means[country]))"
   ]
  },
  {
   "cell_type": "code",
   "execution_count": 26,
   "metadata": {
    "tags": []
   },
   "outputs": [
    {
     "output_type": "stream",
     "name": "stdout",
     "text": "Country: Australia, Avg Success Estimate:  0.30\nCountry: France, Avg Success Estimate:  0.66\nCountry: Brazil, Avg Success Estimate:  0.29\nCountry: USA, Avg Success Estimate:  0.33\nCountry: Greece, Avg Success Estimate:  0.61\nCountry: Jamaica, Avg Success Estimate:  0.66\nCountry: Switzerland, Avg Success Estimate:  0.79\nCountry: Germany, Avg Success Estimate:  0.43\n\nItaly: *Does not meet company policy*\nEngland: *Does not meet company policy*\nCanada: *Does not meet company policy*\nArgentina: *Does not meet company policy*\nMorocco: *Does not meet company policy*\nTunisia: *Does not meet company policy*\nEgypt: *Does not meet company policy*\n"
    }
   ],
   "source": [
    "all_countries = list(success_estimates.keys())\n",
    "country_means = {}\n",
    "country_not_meet = []\n",
    "for country in all_countries:\n",
    "    list_values = success_estimates[country]\n",
    "    if len(success_estimates[country])>=3:\n",
    "        country_means[country] = sum(list_values)/len(list_values)\n",
    "    else:\n",
    "        country_not_meet.append(country)\n",
    "for country in country_means:\n",
    "    print(\"Country: {0:s}, Avg Success Estimate: {1: .2f}\".format(country,country_means[country]))\n",
    "print(\"\")\n",
    "for country in country_not_meet:\n",
    "    print(country + \": *Does not meet company policy*\")"
   ]
  },
  {
   "cell_type": "code",
   "execution_count": 27,
   "metadata": {
    "tags": []
   },
   "outputs": [
    {
     "output_type": "stream",
     "name": "stdout",
     "text": "Australia, Avg Success Estimate:  0.30\nFrance, Avg Success Estimate:  0.66\nBrazil, Avg Success Estimate:  0.29\nUSA, Avg Success Estimate:  0.33\nGreece, Avg Success Estimate:  0.61\nJamaica, Avg Success Estimate:  0.66\nSwitzerland, Avg Success Estimate:  0.79\nGermany, Avg Success Estimate:  0.43\n\nFrance: Range of estimates is > 0.6\nGreece: Range of estimates is > 0.6\n\nItaly: *Does not meet company policy*\nEngland: *Does not meet company policy*\nCanada: *Does not meet company policy*\nArgentina: *Does not meet company policy*\nMorocco: *Does not meet company policy*\nTunisia: *Does not meet company policy*\nEgypt: *Does not meet company policy*\n"
    }
   ],
   "source": [
    "all_countries = list(success_estimates.keys())\n",
    "country_means = {}\n",
    "country_not_meet = []\n",
    "country_flag = []\n",
    "for country in all_countries:\n",
    "    list_values = success_estimates[country]\n",
    "    if len(success_estimates[country])>=3:\n",
    "        country_means[country] = sum(list_values)/len(list_values)\n",
    "        if (max(success_estimates[country]) - min(success_estimates[country])) > 0.6:\n",
    "            country_flag.append(country)\n",
    "    else:\n",
    "        country_not_meet.append(country)\n",
    "for country in country_means:\n",
    "    print(\"{0:s}, Avg Success Estimate: {1: .2f}\".format(country,country_means[country]))\n",
    "print(\"\")\n",
    "for country in country_flag:\n",
    "    print(country + \": Range of estimates is > 0.6\")\n",
    "print(\"\")\n",
    "for country in country_not_meet:\n",
    "    print(country + \": *Does not meet company policy*\")"
   ]
  },
  {
   "cell_type": "code",
   "execution_count": 28,
   "metadata": {
    "tags": []
   },
   "outputs": [
    {
     "output_type": "stream",
     "name": "stdout",
     "text": "Australia, Avg Success Estimate:  0.30\nFrance, Avg Success Estimate:  0.66\nBrazil, Avg Success Estimate:  0.29\nUSA, Avg Success Estimate:  0.33\nGreece, Avg Success Estimate:  0.61\nJamaica, Avg Success Estimate:  0.66\nSwitzerland, Avg Success Estimate:  0.79\nGermany, Avg Success Estimate:  0.43\n\nFrance: Range of estimates is > 0.6\nGreece: Range of estimates is > 0.6\n\nItaly: *Does not meet company policy*\nEngland: *Does not meet company policy*\nCanada: *Does not meet company policy*\nArgentina: *Does not meet company policy*\nMorocco: *Does not meet company policy*\nTunisia: *Does not meet company policy*\nEgypt: *Does not meet company policy*\n"
    }
   ],
   "source": [
    "all_countries = list(success_estimates.keys())\n",
    "country_means = {}\n",
    "country_not_meet = []\n",
    "country_flag = []\n",
    "for country in all_countries:\n",
    "    list_values = success_estimates[country]\n",
    "    if len(success_estimates[country])>=3:\n",
    "        country_means[country] = sum(list_values)/len(list_values)\n",
    "        if (max(success_estimates[country]) - min(success_estimates[country])) > 0.6:\n",
    "            country_flag.append(country)\n",
    "    else:\n",
    "        country_not_meet.append(country)\n",
    "for country in country_means:\n",
    "    print(\"{0:s}, Avg Success Estimate: {1: .2f}\".format(country,country_means[country]))\n",
    "print(\"\")\n",
    "for country in country_flag:\n",
    "    print(country + \": Range of estimates is > 0.6\")\n",
    "print(\"\")\n",
    "for country in country_not_meet:\n",
    "    print(\"country + \": *Does not meet company policy*\")"
   ]
  },
  {
   "cell_type": "code",
   "execution_count": 50,
   "metadata": {
    "tags": []
   },
   "outputs": [
    {
     "output_type": "stream",
     "name": "stdout",
     "text": "Country: Australia, Min:  0.11, Average:  0.295, Max:  0.60, NumEst: 4, MeetsPolicy: True\nCountry: France, Min:  0.20, Average:  0.655, Max:  0.98, NumEst: 4, MeetsPolicy: True\nCountry: Italy, Min:  0.60, Average:  0.600, Max:  0.60, NumEst: 1, MeetsPolicy: False\nCountry: Brazil, Min:  0.22, Average:  0.290, Max:  0.43, NumEst: 3, MeetsPolicy: True\nCountry: USA, Min:  0.20, Average:  0.333, Max:  0.50, NumEst: 3, MeetsPolicy: True\nCountry: England, Min:  0.45, Average:  0.450, Max:  0.45, NumEst: 1, MeetsPolicy: False\nCountry: Canada, Min:  0.25, Average:  0.275, Max:  0.30, NumEst: 2, MeetsPolicy: False\nCountry: Argentina, Min:  0.22, Average:  0.220, Max:  0.22, NumEst: 1, MeetsPolicy: False\nCountry: Greece, Min:  0.15, Average:  0.610, Max:  0.99, NumEst: 6, MeetsPolicy: True\nCountry: Morocco, Min:  0.29, Average:  0.290, Max:  0.29, NumEst: 1, MeetsPolicy: False\nCountry: Tunisia, Min:  0.56, Average:  0.620, Max:  0.68, NumEst: 2, MeetsPolicy: False\nCountry: Egypt, Min:  0.99, Average:  0.990, Max:  0.99, NumEst: 1, MeetsPolicy: False\nCountry: Jamaica, Min:  0.61, Average:  0.657, Max:  0.71, NumEst: 3, MeetsPolicy: True\nCountry: Switzerland, Min:  0.51, Average:  0.786, Max:  0.99, NumEst: 5, MeetsPolicy: True\nCountry: Germany, Min:  0.36, Average:  0.433, Max:  0.49, NumEst: 3, MeetsPolicy: True\n"
    }
   ],
   "source": [
    "all_countries = list(success_estimates.keys())\n",
    "country_results = {}\n",
    "for country in all_countries:\n",
    "    results = []\n",
    "    list_values = success_estimates[country]\n",
    "    mini = round(min(list_values),3)\n",
    "    aver = round(sum(list_values)/len(list_values),3)\n",
    "    maxi = round(max(list_values),3)\n",
    "    num_est = len(list_values)\n",
    "    poli = True\n",
    "    if len(list_values)<3:\n",
    "        poli = False\n",
    "    results.append(mini)\n",
    "    results.append(aver)\n",
    "    results.append(maxi)\n",
    "    results.append(num_est)\n",
    "    results.append(poli)\n",
    "    country_results[country] = results\n",
    "for country in country_results:\n",
    "    print(\"Country: {0:s}, Min: {1: .2f}, Average: {2: .3f}, Max: {3: .2f}, NumEst: {4:}, MeetsPolicy: {5}\".format(country,country_results[country][0],country_results[country][1],country_results[country][2],country_results[country][3],country_results[country][4]))"
   ]
  },
  {
   "cell_type": "code",
   "execution_count": 52,
   "metadata": {
    "tags": []
   },
   "outputs": [
    {
     "output_type": "stream",
     "name": "stdout",
     "text": "Country: Switzerland, Min:  0.51, Average:  0.786, Max:  0.99, NumEst: 5, MeetsPolicy: True\n"
    }
   ],
   "source": [
    "all_countries = list(success_estimates.keys())\n",
    "country_results = {}\n",
    "for country in all_countries:\n",
    "    results = []\n",
    "    list_values = success_estimates[country]\n",
    "    mini = round(min(list_values),3)\n",
    "    aver = round(sum(list_values)/len(list_values),3)\n",
    "    maxi = round(max(list_values),3)\n",
    "    num_est = len(list_values)\n",
    "    poli = True\n",
    "    if len(list_values)<3:\n",
    "        poli = False\n",
    "    results.append(mini)\n",
    "    results.append(aver)\n",
    "    results.append(maxi)\n",
    "    results.append(num_est)\n",
    "    results.append(poli)\n",
    "    country_results[country] = results\n",
    "highest_avg = 0\n",
    "for country in country_results:\n",
    "    if country_results[country][4]:\n",
    "        if country_results[country][1] > highest_avg:\n",
    "            highest_avg = country_results[country][1]\n",
    "            highest_country = country\n",
    "print(\"Country: {0:s}, Min: {1: .2f}, Average: {2: .3f}, Max: {3: .2f}, NumEst: {4:}, MeetsPolicy: {5}\".format(highest_country,country_results[highest_country][0],country_results[highest_country][1],country_results[highest_country][2],country_results[highest_country][3],country_results[highest_country][4]))"
   ]
  },
  {
   "cell_type": "code",
   "execution_count": 56,
   "metadata": {
    "tags": []
   },
   "outputs": [
    {
     "output_type": "stream",
     "name": "stdout",
     "text": "Country: Jamaica, Min:  0.61, Average:  0.657, Max:  0.71, NumEst: 3, MeetsPolicy: True\n"
    }
   ],
   "source": [
    "all_countries = list(success_estimates.keys())\n",
    "country_results = {}\n",
    "for country in all_countries:\n",
    "    results = []\n",
    "    list_values = success_estimates[country]\n",
    "    mini = round(min(list_values),3)\n",
    "    aver = round(sum(list_values)/len(list_values),3)\n",
    "    maxi = round(max(list_values),3)\n",
    "    num_est = len(list_values)\n",
    "    poli = True\n",
    "    if len(list_values)<3:\n",
    "        poli = False\n",
    "    results.append(mini)\n",
    "    results.append(aver)\n",
    "    results.append(maxi)\n",
    "    results.append(num_est)\n",
    "    results.append(poli)\n",
    "    country_results[country] = results\n",
    "safest = 0\n",
    "for country in country_results:\n",
    "    if country_results[country][4]:\n",
    "        if country_results[country][0] > safest:\n",
    "            safest = country_results[country][0]\n",
    "            safest_country = country\n",
    "print(\"Country: {0:s}, Min: {1: .2f}, Average: {2: .3f}, Max: {3: .2f}, NumEst: {4:}, MeetsPolicy: {5}\".format(safest_country,country_results[safest_country][0],country_results[safest_country][1],country_results[safest_country][2],country_results[safest_country][3],country_results[safest_country][4]))"
   ]
  }
 ]
}